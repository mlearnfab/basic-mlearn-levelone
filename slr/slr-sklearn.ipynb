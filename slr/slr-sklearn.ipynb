{
 "cells": [
  {
   "cell_type": "markdown",
   "id": "f94f7bae",
   "metadata": {},
   "source": [
    "# Machine Learning for Absolute Beginners\n",
    "\n",
    "## Simple Linear Regression - scikit learn"
   ]
  },
  {
   "cell_type": "markdown",
   "id": "e7733f51",
   "metadata": {},
   "source": [
    "## 0. Load Libraries"
   ]
  },
  {
   "cell_type": "code",
   "execution_count": 4,
   "id": "dbe33380",
   "metadata": {},
   "outputs": [],
   "source": [
    "# load libraries\n",
    "from sklearn.linear_model import LinearRegression\n",
    "from sklearn.model_selection import train_test_split\n",
    "from sklearn.metrics import r2_score\n",
    "\n",
    "\n",
    "import pandas as pd\n",
    "import numpy as np"
   ]
  },
  {
   "cell_type": "markdown",
   "id": "cf69696f",
   "metadata": {},
   "source": [
    "## 1. Load and Verify Dataset"
   ]
  },
  {
   "cell_type": "code",
   "execution_count": 9,
   "id": "be7b5955",
   "metadata": {},
   "outputs": [],
   "source": [
    "# load dataset and create dataframe\n",
    "df = pd.read_csv('data/edincome.csv').round(1)"
   ]
  },
  {
   "cell_type": "code",
   "execution_count": 10,
   "id": "1bfe1538",
   "metadata": {},
   "outputs": [
    {
     "data": {
      "text/html": [
       "<div>\n",
       "<style scoped>\n",
       "    .dataframe tbody tr th:only-of-type {\n",
       "        vertical-align: middle;\n",
       "    }\n",
       "\n",
       "    .dataframe tbody tr th {\n",
       "        vertical-align: top;\n",
       "    }\n",
       "\n",
       "    .dataframe thead th {\n",
       "        text-align: right;\n",
       "    }\n",
       "</style>\n",
       "<table border=\"1\" class=\"dataframe\">\n",
       "  <thead>\n",
       "    <tr style=\"text-align: right;\">\n",
       "      <th></th>\n",
       "      <th>Education</th>\n",
       "      <th>Income</th>\n",
       "    </tr>\n",
       "  </thead>\n",
       "  <tbody>\n",
       "    <tr>\n",
       "      <th>0</th>\n",
       "      <td>10.0</td>\n",
       "      <td>32.1</td>\n",
       "    </tr>\n",
       "    <tr>\n",
       "      <th>1</th>\n",
       "      <td>10.4</td>\n",
       "      <td>36.5</td>\n",
       "    </tr>\n",
       "    <tr>\n",
       "      <th>2</th>\n",
       "      <td>10.7</td>\n",
       "      <td>23.9</td>\n",
       "    </tr>\n",
       "    <tr>\n",
       "      <th>3</th>\n",
       "      <td>11.1</td>\n",
       "      <td>52.3</td>\n",
       "    </tr>\n",
       "    <tr>\n",
       "      <th>4</th>\n",
       "      <td>11.4</td>\n",
       "      <td>30.2</td>\n",
       "    </tr>\n",
       "  </tbody>\n",
       "</table>\n",
       "</div>"
      ],
      "text/plain": [
       "   Education  Income\n",
       "0       10.0    32.1\n",
       "1       10.4    36.5\n",
       "2       10.7    23.9\n",
       "3       11.1    52.3\n",
       "4       11.4    30.2"
      ]
     },
     "execution_count": 10,
     "metadata": {},
     "output_type": "execute_result"
    }
   ],
   "source": [
    "df.head()"
   ]
  },
  {
   "cell_type": "markdown",
   "id": "286541f5",
   "metadata": {},
   "source": [
    "## 2. Prepare Data"
   ]
  },
  {
   "cell_type": "code",
   "execution_count": 11,
   "id": "4e4336f8",
   "metadata": {},
   "outputs": [],
   "source": [
    "X = df[['Education']]\n",
    "y = df['Income']"
   ]
  },
  {
   "cell_type": "code",
   "execution_count": 12,
   "id": "5019e855",
   "metadata": {},
   "outputs": [],
   "source": [
    "X_train, X_test, y_train, y_test = train_test_split(X, y, test_size=0.4, random_state=5)"
   ]
  },
  {
   "cell_type": "markdown",
   "id": "0e8c227e",
   "metadata": {},
   "source": [
    "## 3. Apply Linear Regression Model"
   ]
  },
  {
   "cell_type": "code",
   "execution_count": 13,
   "id": "ce1f8213",
   "metadata": {},
   "outputs": [],
   "source": [
    "slr = LinearRegression().fit(X_train,y_train)"
   ]
  },
  {
   "cell_type": "code",
   "execution_count": 14,
   "id": "7a5ea2ea",
   "metadata": {},
   "outputs": [
    {
     "name": "stdout",
     "output_type": "stream",
     "text": [
      "-25.261756995345337\n",
      "[5.69317607]\n"
     ]
    }
   ],
   "source": [
    "print(slr.intercept_)\n",
    "print(slr.coef_)"
   ]
  },
  {
   "cell_type": "markdown",
   "id": "bdba2289",
   "metadata": {},
   "source": [
    "## 4. Evaluate Model"
   ]
  },
  {
   "cell_type": "code",
   "execution_count": 15,
   "id": "57a095d4",
   "metadata": {},
   "outputs": [],
   "source": [
    "y_pred = slr.predict(X_test)"
   ]
  },
  {
   "cell_type": "code",
   "execution_count": 20,
   "id": "1839028f",
   "metadata": {},
   "outputs": [
    {
     "data": {
      "text/plain": [
       "0.8530010045296671"
      ]
     },
     "execution_count": 20,
     "metadata": {},
     "output_type": "execute_result"
    }
   ],
   "source": [
    "r2_score(y_test, y_pred)"
   ]
  },
  {
   "cell_type": "markdown",
   "id": "65c528a6",
   "metadata": {},
   "source": [
    "## 5. Predict New Data"
   ]
  },
  {
   "cell_type": "code",
   "execution_count": 16,
   "id": "23eb7e1c",
   "metadata": {},
   "outputs": [],
   "source": [
    "X_new = np.array([[12],[16],[18]])"
   ]
  },
  {
   "cell_type": "code",
   "execution_count": 17,
   "id": "7f4fc778",
   "metadata": {},
   "outputs": [
    {
     "data": {
      "text/plain": [
       "array([43.05635579, 65.82906006, 77.21541219])"
      ]
     },
     "execution_count": 17,
     "metadata": {},
     "output_type": "execute_result"
    }
   ],
   "source": [
    "slr.predict(X_new)"
   ]
  },
  {
   "cell_type": "code",
   "execution_count": null,
   "id": "e8096298-4dd9-47f1-87af-79610c3f8003",
   "metadata": {},
   "outputs": [],
   "source": []
  },
  {
   "cell_type": "code",
   "execution_count": null,
   "id": "7410a11b-48c1-4574-aba3-71c82becc320",
   "metadata": {},
   "outputs": [],
   "source": []
  },
  {
   "cell_type": "code",
   "execution_count": null,
   "id": "6bf1e01b-6fdc-4112-b6b5-6c9272d94efc",
   "metadata": {},
   "outputs": [],
   "source": []
  }
 ],
 "metadata": {
  "kernelspec": {
   "display_name": "Python 3 (ipykernel)",
   "language": "python",
   "name": "python3"
  },
  "language_info": {
   "codemirror_mode": {
    "name": "ipython",
    "version": 3
   },
   "file_extension": ".py",
   "mimetype": "text/x-python",
   "name": "python",
   "nbconvert_exporter": "python",
   "pygments_lexer": "ipython3",
   "version": "3.9.7"
  }
 },
 "nbformat": 4,
 "nbformat_minor": 5
}
